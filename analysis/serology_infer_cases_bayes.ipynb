{
 "cells": [
  {
   "cell_type": "markdown",
   "metadata": {},
   "source": [
    "# Estimate the number of people in each parish who were infected by the start of the first testing phase\n",
    "\n",
    "\n",
    "# Background\n",
    "- Even when specificity is high, a high proportion of positive results may be false positives.\n",
    "- eg. if sensitivity=70% and specificity=98% and and if we assume an actual infection prevalence of around 10%, this implies that over 20% of all positive results are False positives. (=90 x 0.02/(10 x 0.7 + 90 x 0.02)).\n",
    "- Therefore, we must account for the sensitivity and specificity in our estimates of infection rate to avoid over-estimating.\n",
    "\n",
    "\n",
    "\n",
    "Using Bayes method, the probability of an actual infection (D) given a positive test result (T) is given by:<br>"
   ]
  },
  {
   "cell_type": "markdown",
   "metadata": {},
   "source": [
    "\\begin{equation*}\n",
    "P(D|T) = P(T|D)P(D) / P(T) \\\\\n",
    "P(D|T) = \\frac{se \\times P(D) }{ se \\times P(D) + (1-sp) \\times P(D') }\n",
    "\\end{equation*}"
   ]
  },
  {
   "cell_type": "markdown",
   "metadata": {},
   "source": [
    "The sensitivity (se) and specificity (sp) are attributes of the tests. The prior probability of being infected P(D) and its reciprocal P(D') have to be either known in advance or estimated from the data. A common way to estimate this from the data is using maximum likelihood estimation:\n",
    "https://academic.oup.com/aje/article-abstract/107/1/71/104051?redirectedFrom=fulltext\n"
   ]
  },
  {
   "cell_type": "markdown",
   "metadata": {},
   "source": [
    "\\begin{equation*}\n",
    "P(D) = \\frac{(\\frac{n^T}{N} - (1-sp))}{(se+sp-1)} \n",
    "\\end{equation*}"
   ]
  },
  {
   "cell_type": "markdown",
   "metadata": {},
   "source": [
    "where $n^T$ is the number of positive results and N is the total number of people tested"
   ]
  },
  {
   "cell_type": "code",
   "execution_count": 64,
   "metadata": {
    "collapsed": true
   },
   "outputs": [],
   "source": [
    "import pandas as pd\n",
    "from collections import Counter\n",
    "import datetime"
   ]
  },
  {
   "cell_type": "code",
   "execution_count": 65,
   "metadata": {},
   "outputs": [
    {
     "name": "stderr",
     "output_type": "stream",
     "text": [
      "/Users/doorleyr/anaconda/envs/shapely/lib/python3.8/site-packages/IPython/core/interactiveshell.py:3062: DtypeWarning: Columns (4,7,11,16,18,20) have mixed types.Specify dtype option on import or set low_memory=False.\n",
      "  has_raised = await self.run_ast_nodes(code_ast.body, cell_name,\n"
     ]
    }
   ],
   "source": [
    "serology=pd.read_csv('../data/private/serology_clean.csv')"
   ]
  },
  {
   "cell_type": "code",
   "execution_count": 66,
   "metadata": {},
   "outputs": [
    {
     "name": "stdout",
     "output_type": "stream",
     "text": [
      "73265\n",
      "70626\n"
     ]
    }
   ],
   "source": [
    "print(len(serology))\n",
    "serology=serology.loc[~serology['data_test_1'].isnull()]\n",
    "print(len(serology))"
   ]
  },
  {
   "cell_type": "code",
   "execution_count": null,
   "metadata": {},
   "outputs": [],
   "source": [
    "serology_accuracy=json.load(open('data/private/serology_accuracy.json'))"
   ]
  },
  {
   "cell_type": "code",
   "execution_count": 67,
   "metadata": {
    "collapsed": true
   },
   "outputs": [],
   "source": [
    "se=serology_accuracy['se']\n",
    "sp=serology_accuracy['sp']"
   ]
  },
  {
   "cell_type": "markdown",
   "metadata": {},
   "source": [
    "Combine AlV and Escaldes, fix parish names"
   ]
  },
  {
   "cell_type": "code",
   "execution_count": 68,
   "metadata": {},
   "outputs": [
    {
     "data": {
      "text/plain": [
       "Counter({'escaldes_engordany': 28924,\n",
       "         'andorra_la_vella': 4542,\n",
       "         'sant_julia': 8632,\n",
       "         'la_massana': 8843,\n",
       "         'encamp': 10846,\n",
       "         'canillo': 4495,\n",
       "         'ordino': 4214,\n",
       "         nan: 130})"
      ]
     },
     "execution_count": 68,
     "metadata": {},
     "output_type": "execute_result"
    }
   ],
   "source": [
    "from collections import Counter\n",
    "Counter(serology['parish'])"
   ]
  },
  {
   "cell_type": "code",
   "execution_count": 69,
   "metadata": {
    "collapsed": true
   },
   "outputs": [],
   "source": [
    "def new_parish_name(parish):\n",
    "    if isinstance(parish, str):\n",
    "        if parish in ['andorra_la_vella', 'escaldes_engordany']:\n",
    "            return 'Andorra la Vella & Escaldes-Engordany'\n",
    "        elif parish=='sant_julia':\n",
    "            return 'Sant Juliá de Lòria'\n",
    "        else:\n",
    "            return parish.replace('_', ' ').title()\n",
    "    else:\n",
    "        return float('nan')\n",
    "    \n",
    "serology['new_parish']=serology.apply(lambda row: new_parish_name(row['parish']), axis=1)"
   ]
  },
  {
   "cell_type": "markdown",
   "metadata": {},
   "source": [
    "### Descriptive stats of dataset"
   ]
  },
  {
   "cell_type": "code",
   "execution_count": 70,
   "metadata": {},
   "outputs": [
    {
     "data": {
      "text/html": [
       "<div>\n",
       "<style scoped>\n",
       "    .dataframe tbody tr th:only-of-type {\n",
       "        vertical-align: middle;\n",
       "    }\n",
       "\n",
       "    .dataframe tbody tr th {\n",
       "        vertical-align: top;\n",
       "    }\n",
       "\n",
       "    .dataframe thead th {\n",
       "        text-align: right;\n",
       "    }\n",
       "</style>\n",
       "<table border=\"1\" class=\"dataframe\">\n",
       "  <thead>\n",
       "    <tr style=\"text-align: right;\">\n",
       "      <th>temporer</th>\n",
       "      <th>0.0</th>\n",
       "      <th>1.0</th>\n",
       "    </tr>\n",
       "    <tr>\n",
       "      <th>new_parish</th>\n",
       "      <th></th>\n",
       "      <th></th>\n",
       "    </tr>\n",
       "  </thead>\n",
       "  <tbody>\n",
       "    <tr>\n",
       "      <th>Andorra la Vella &amp; Escaldes-Engordany</th>\n",
       "      <td>32925</td>\n",
       "      <td>436</td>\n",
       "    </tr>\n",
       "    <tr>\n",
       "      <th>Canillo</th>\n",
       "      <td>3418</td>\n",
       "      <td>1071</td>\n",
       "    </tr>\n",
       "    <tr>\n",
       "      <th>Encamp</th>\n",
       "      <td>10115</td>\n",
       "      <td>715</td>\n",
       "    </tr>\n",
       "    <tr>\n",
       "      <th>La Massana</th>\n",
       "      <td>8460</td>\n",
       "      <td>369</td>\n",
       "    </tr>\n",
       "    <tr>\n",
       "      <th>Ordino</th>\n",
       "      <td>4131</td>\n",
       "      <td>74</td>\n",
       "    </tr>\n",
       "    <tr>\n",
       "      <th>Sant Juliá de Lòria</th>\n",
       "      <td>8578</td>\n",
       "      <td>34</td>\n",
       "    </tr>\n",
       "  </tbody>\n",
       "</table>\n",
       "</div>"
      ],
      "text/plain": [
       "temporer                                 0.0   1.0\n",
       "new_parish                                        \n",
       "Andorra la Vella & Escaldes-Engordany  32925   436\n",
       "Canillo                                 3418  1071\n",
       "Encamp                                 10115   715\n",
       "La Massana                              8460   369\n",
       "Ordino                                  4131    74\n",
       "Sant Juliá de Lòria                     8578    34"
      ]
     },
     "execution_count": 70,
     "metadata": {},
     "output_type": "execute_result"
    }
   ],
   "source": [
    "n_by_parish_status=pd.crosstab(serology['new_parish'], serology['temporer'])\n",
    "n_by_parish_status.to_csv('../outputs/n_by_parish_status.csv')\n",
    "n_by_parish_status"
   ]
  },
  {
   "cell_type": "markdown",
   "metadata": {},
   "source": [
    "# Estimate the percentage of people who were infected before the first test"
   ]
  },
  {
   "cell_type": "markdown",
   "metadata": {},
   "source": [
    "get the percentage of people who tested positive for any antibody in each period"
   ]
  },
  {
   "cell_type": "code",
   "execution_count": 71,
   "metadata": {},
   "outputs": [
    {
     "name": "stdout",
     "output_type": "stream",
     "text": [
      "6812\n",
      "5675\n"
     ]
    }
   ],
   "source": [
    "serology['naive_any_antibody_test_1']=((serology['igm_1']=='positiu')|(serology['igg_1']=='positiu'))\n",
    "serology['naive_any_antibody_test_2']=((serology['igm_2']=='positiu')|(serology['igg_2']=='positiu'))\n",
    "print(sum(serology['naive_any_antibody_test_1']))\n",
    "print(sum(serology['naive_any_antibody_test_2']))"
   ]
  },
  {
   "cell_type": "code",
   "execution_count": 72,
   "metadata": {},
   "outputs": [
    {
     "name": "stdout",
     "output_type": "stream",
     "text": [
      "0.0964517316568969\n",
      "0.08035284456149293\n"
     ]
    }
   ],
   "source": [
    "prop_period_1=sum(serology['naive_any_antibody_test_1'])/len(serology)\n",
    "print(prop_period_1)\n",
    "\n",
    "prop_period_2=sum(serology['naive_any_antibody_test_2'])/len(serology)\n",
    "print(prop_period_2)"
   ]
  },
  {
   "cell_type": "markdown",
   "metadata": {},
   "source": [
    "confirm the conditions of the max likelihood formula are satisfied"
   ]
  },
  {
   "cell_type": "code",
   "execution_count": 73,
   "metadata": {
    "collapsed": true
   },
   "outputs": [],
   "source": [
    "assert (1-sp) < prop_period_1\n",
    "assert prop_period_1 < se"
   ]
  },
  {
   "cell_type": "markdown",
   "metadata": {},
   "source": [
    "finally, estimate the percentage of people infected before period 1 (based on test phase 1 results only)"
   ]
  },
  {
   "cell_type": "code",
   "execution_count": 74,
   "metadata": {},
   "outputs": [
    {
     "name": "stdout",
     "output_type": "stream",
     "text": [
      "0.11079961109695201\n"
     ]
    }
   ],
   "source": [
    "prior_prob_period_1 = (prop_period_1 - (1-sp))/(se+sp-1)\n",
    "print(prior_prob_period_1)"
   ]
  },
  {
   "cell_type": "code",
   "execution_count": 75,
   "metadata": {},
   "outputs": [
    {
     "name": "stdout",
     "output_type": "stream",
     "text": [
      "Reporting factor: 10.50380313199105\n"
     ]
    }
   ],
   "source": [
    "print('Reporting factor: {}'.format(prior_prob_period_1*len(serology)/745))"
   ]
  },
  {
   "cell_type": "code",
   "execution_count": 76,
   "metadata": {
    "collapsed": true
   },
   "outputs": [],
   "source": [
    "def get_posterior(row, prior, L_given_T1, L_given_notT1):\n",
    "    any_ig_1= row['naive_any_antibody_test_1']\n",
    "    if any_ig_1:\n",
    "        return prior*L_given_T1\n",
    "    else:\n",
    "        return prior*L_given_notT1    "
   ]
  },
  {
   "cell_type": "markdown",
   "metadata": {},
   "source": [
    "## Estimate each person's probability based on test 1 result only"
   ]
  },
  {
   "cell_type": "markdown",
   "metadata": {},
   "source": [
    "Likelihood of D1 given 1 test result"
   ]
  },
  {
   "cell_type": "code",
   "execution_count": 78,
   "metadata": {},
   "outputs": [
    {
     "name": "stdout",
     "output_type": "stream",
     "text": [
      "7.36119495008808\n",
      "0.320956843325916\n"
     ]
    }
   ],
   "source": [
    "# P(D|T)=P(T|D)P(D)/P(T)\n",
    "L_D1_given_T1 = se/prop_period_1\n",
    "print(L_D1_given_T1)\n",
    "# P(D|T')=P(T'|D)P(D)/P(T')\n",
    "L_D1_given_notT1 = (1-se)/(1-prop_period_1)\n",
    "print(L_D1_given_notT1)"
   ]
  },
  {
   "cell_type": "code",
   "execution_count": 80,
   "metadata": {
    "collapsed": true
   },
   "outputs": [],
   "source": [
    "serology['P_D1_test_1_only']=serology.apply(lambda row: get_posterior(row, prior_prob_period_1, L_D1_given_T1, L_D1_given_notT1), axis=1)"
   ]
  },
  {
   "cell_type": "code",
   "execution_count": null,
   "metadata": {},
   "outputs": [],
   "source": [
    "test1_by_parish=serology.groupby('new_parish')['P_D1_test_1_only'].mean().round(2).reset_index()\n",
    "test1_by_status=serology.groupby( 'temporer')['P_D1_test_1_only'].agg(['mean', 'size']).round(2)"
   ]
  },
  {
   "cell_type": "markdown",
   "metadata": {},
   "source": [
    "## Test significance of status and parish on infection rate"
   ]
  },
  {
   "cell_type": "code",
   "execution_count": 84,
   "metadata": {},
   "outputs": [
    {
     "data": {
      "text/html": [
       "<div>\n",
       "<style scoped>\n",
       "    .dataframe tbody tr th:only-of-type {\n",
       "        vertical-align: middle;\n",
       "    }\n",
       "\n",
       "    .dataframe tbody tr th {\n",
       "        vertical-align: top;\n",
       "    }\n",
       "\n",
       "    .dataframe thead th {\n",
       "        text-align: right;\n",
       "    }\n",
       "</style>\n",
       "<table border=\"1\" class=\"dataframe\">\n",
       "  <thead>\n",
       "    <tr style=\"text-align: right;\">\n",
       "      <th></th>\n",
       "      <th>P_D1_test_1_only</th>\n",
       "      <th>P_not_D1_test_1_only</th>\n",
       "    </tr>\n",
       "    <tr>\n",
       "      <th>parish</th>\n",
       "      <th></th>\n",
       "      <th></th>\n",
       "    </tr>\n",
       "  </thead>\n",
       "  <tbody>\n",
       "    <tr>\n",
       "      <th>andorra_la_vella</th>\n",
       "      <td>418.940483</td>\n",
       "      <td>4123.059517</td>\n",
       "    </tr>\n",
       "    <tr>\n",
       "      <th>canillo</th>\n",
       "      <td>498.394861</td>\n",
       "      <td>3996.605139</td>\n",
       "    </tr>\n",
       "    <tr>\n",
       "      <th>encamp</th>\n",
       "      <td>1101.015322</td>\n",
       "      <td>9744.984678</td>\n",
       "    </tr>\n",
       "    <tr>\n",
       "      <th>escaldes_engordany</th>\n",
       "      <td>2984.191705</td>\n",
       "      <td>25939.808295</td>\n",
       "    </tr>\n",
       "    <tr>\n",
       "      <th>la_massana</th>\n",
       "      <td>1222.458593</td>\n",
       "      <td>7620.541407</td>\n",
       "    </tr>\n",
       "    <tr>\n",
       "      <th>ordino</th>\n",
       "      <td>463.440188</td>\n",
       "      <td>3750.559812</td>\n",
       "    </tr>\n",
       "    <tr>\n",
       "      <th>sant_julia</th>\n",
       "      <td>1116.668023</td>\n",
       "      <td>7515.331977</td>\n",
       "    </tr>\n",
       "  </tbody>\n",
       "</table>\n",
       "</div>"
      ],
      "text/plain": [
       "                    P_D1_test_1_only  P_not_D1_test_1_only\n",
       "parish                                                    \n",
       "andorra_la_vella          418.940483           4123.059517\n",
       "canillo                   498.394861           3996.605139\n",
       "encamp                   1101.015322           9744.984678\n",
       "escaldes_engordany       2984.191705          25939.808295\n",
       "la_massana               1222.458593           7620.541407\n",
       "ordino                    463.440188           3750.559812\n",
       "sant_julia               1116.668023           7515.331977"
      ]
     },
     "execution_count": 84,
     "metadata": {},
     "output_type": "execute_result"
    }
   ],
   "source": [
    "serology['P_not_D1_test_1_only']=1-serology['P_D1_test_1_only']\n",
    "infection_by_status=pd.DataFrame(serology.groupby('temporer')[['P_D1_test_1_only', 'P_not_D1_test_1_only']].sum())\n",
    "infection_by_parish=pd.DataFrame(serology.groupby('parish')[['P_D1_test_1_only', 'P_not_D1_test_1_only']].sum())\n",
    "infection_by_parish"
   ]
  },
  {
   "cell_type": "code",
   "execution_count": 85,
   "metadata": {},
   "outputs": [
    {
     "name": "stdout",
     "output_type": "stream",
     "text": [
      "dof=1\n",
      "1.4231596764344866e-06\n",
      "P: 1.4231596764344866e-06\n",
      "[[ 7479.04613822 60261.95386179]\n",
      " [  299.64321783  2414.35678217]]\n",
      "probability=0.990, critical=6.635, stat=23.249\n",
      "Dependent (reject H0)\n",
      "significance=0.010, p=0.000\n",
      "Dependent (reject H0)\n"
     ]
    }
   ],
   "source": [
    "from scipy.stats import chi2_contingency, chi2\n",
    "stat, p, dof, expected = chi2_contingency(infection_by_status)\n",
    "print('dof=%d' % dof)\n",
    "print(p)\n",
    "print('P: {}'.format(p))\n",
    "print(expected)\n",
    "# interpret test-statistic\n",
    "prob = 0.99\n",
    "critical = chi2.ppf(prob, dof)\n",
    "print('probability=%.3f, critical=%.3f, stat=%.3f' % (prob, critical, stat))\n",
    "if abs(stat) >= critical:\n",
    "    print('Dependent (reject H0)')\n",
    "else:\n",
    "    print('Independent (fail to reject H0)')\n",
    "# interpret p-value\n",
    "alpha = 1.0 - prob\n",
    "print('significance=%.3f, p=%.3f' % (alpha, p))\n",
    "if p <= alpha:\n",
    "    print('Dependent (reject H0)')\n",
    "else:\n",
    "    print('Independent (fail to reject H0)')"
   ]
  },
  {
   "cell_type": "code",
   "execution_count": 86,
   "metadata": {},
   "outputs": [
    {
     "name": "stdout",
     "output_type": "stream",
     "text": [
      "dof=6\n",
      "8.468784059359277e-28\n",
      "P: 8.468784059359277e-28\n",
      "[[  502.87684223  4039.12315777]\n",
      " [  497.67314087  3997.32685913]\n",
      " [ 1200.83712699  9645.16287301]\n",
      " [ 3202.37996138 25721.62003863]\n",
      " [  979.07087535  7863.92912466]\n",
      " [  466.56164975  3747.43835025]\n",
      " [  955.70957774  7676.29042226]]\n",
      "probability=0.990, critical=16.812, stat=140.347\n",
      "Dependent (reject H0)\n",
      "significance=0.010, p=0.000\n",
      "Dependent (reject H0)\n"
     ]
    }
   ],
   "source": [
    "stat, p, dof, expected = chi2_contingency(infection_by_parish)\n",
    "print('dof=%d' % dof)\n",
    "print(p)\n",
    "print('P: {}'.format(p))\n",
    "print(expected)\n",
    "# interpret test-statistic\n",
    "prob = 0.99\n",
    "critical = chi2.ppf(prob, dof)\n",
    "print('probability=%.3f, critical=%.3f, stat=%.3f' % (prob, critical, stat))\n",
    "if abs(stat) >= critical:\n",
    "    print('Dependent (reject H0)')\n",
    "else:\n",
    "    print('Independent (fail to reject H0)')\n",
    "# interpret p-value\n",
    "alpha = 1.0 - prob\n",
    "print('significance=%.3f, p=%.3f' % (alpha, p))\n",
    "if p <= alpha:\n",
    "    print('Dependent (reject H0)')\n",
    "else:\n",
    "    print('Independent (fail to reject H0)')"
   ]
  },
  {
   "cell_type": "markdown",
   "metadata": {},
   "source": [
    "Geographic correlation of temp infections to other infections"
   ]
  },
  {
   "cell_type": "code",
   "execution_count": 87,
   "metadata": {},
   "outputs": [
    {
     "data": {
      "text/plain": [
       "array([0.1 , 0.11, 0.1 , 0.14, 0.11, 0.13])"
      ]
     },
     "execution_count": 87,
     "metadata": {},
     "output_type": "execute_result"
    }
   ],
   "source": [
    "test1_by_parish_status.loc[test1_by_parish_status['temporer']==0, 'P_D1_test_1_only'].values"
   ]
  },
  {
   "cell_type": "code",
   "execution_count": 88,
   "metadata": {},
   "outputs": [
    {
     "data": {
      "text/plain": [
       "(0.5034538273357869, 0.3086234115399094)"
      ]
     },
     "execution_count": 88,
     "metadata": {},
     "output_type": "execute_result"
    }
   ],
   "source": [
    "from scipy.stats import pearsonr\n",
    "pearsonr(test1_by_parish_status.loc[test1_by_parish_status['temporer']==0, 'P_D1_test_1_only'].values,\n",
    "       test1_by_parish_status.loc[test1_by_parish_status['temporer']==1, 'P_D1_test_1_only'].values)"
   ]
  }
 ],
 "metadata": {
  "anaconda-cloud": {},
  "kernelspec": {
   "display_name": "Python [conda env:shapely]",
   "language": "python",
   "name": "conda-env-shapely-py"
  },
  "language_info": {
   "codemirror_mode": {
    "name": "ipython",
    "version": 3
   },
   "file_extension": ".py",
   "mimetype": "text/x-python",
   "name": "python",
   "nbconvert_exporter": "python",
   "pygments_lexer": "ipython3",
   "version": "3.8.2"
  }
 },
 "nbformat": 4,
 "nbformat_minor": 2
}
