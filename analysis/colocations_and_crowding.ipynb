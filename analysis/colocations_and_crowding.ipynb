{
 "cells": [
  {
   "cell_type": "markdown",
   "metadata": {},
   "source": [
    "# Co-location and Crowding Analysis for March to October 2020"
   ]
  },
  {
   "cell_type": "code",
   "execution_count": null,
   "metadata": {},
   "outputs": [],
   "source": [
    "import json\n",
    "import matplotlib.pyplot as plt\n",
    "import os\n",
    "import pandas as pd\n",
    "import datetime\n",
    "from collections import Counter\n",
    "import numpy as np\n",
    "\n",
    "from toolbox import *\n",
    "from h3_tools import *"
   ]
  },
  {
   "cell_type": "code",
   "execution_count": null,
   "metadata": {},
   "outputs": [],
   "source": [
    "year=2020\n",
    "dates=[\n",
    "    {'month': 3, 'day': d} for d in range(2, 32)] +[\n",
    "    {'month': 4, 'day': d} for d in range(1, 31)]+ [\n",
    "    {'month': 5, 'day': d} for d in range(1, 32)]+[\n",
    "    {'month': 6, 'day': d} for d in range(1, 31)]+[\n",
    "    {'month': 7, 'day': d} for d in range(1, 32)]+[\n",
    "    {'month': 8, 'day': d} for d in range(1, 32)]+[\n",
    "    {'month': 9, 'day': d} for d in range(1, 31)]+[\n",
    "    {'month': 10, 'day': d} for d in range(1, 30)]"
   ]
  },
  {
   "cell_type": "code",
   "execution_count": null,
   "metadata": {},
   "outputs": [],
   "source": [
    "resolution=11"
   ]
  },
  {
   "cell_type": "code",
   "execution_count": null,
   "metadata": {},
   "outputs": [],
   "source": [
    "building_cover_all_cells=json.load(open('../outputs/h3_res11_builtup.json'))\n",
    "list(building_cover_all_cells.items())[0]"
   ]
  },
  {
   "cell_type": "code",
   "execution_count": null,
   "metadata": {},
   "outputs": [],
   "source": [
    "intervals, T=create_intervals(interval_length_minutes=20)"
   ]
  },
  {
   "cell_type": "markdown",
   "metadata": {},
   "source": [
    "## Find number of people in each spatio-temporal cell throughout the study period"
   ]
  },
  {
   "cell_type": "code",
   "execution_count": 1,
   "metadata": {},
   "outputs": [],
   "source": [
    "def find_collocations(stay_ind_by_interval, cell_ids_by_stay_ind):\n",
    "    \"\"\"\n",
    "    for every interval, return the memberships of every h3 cell \n",
    "    and the proportion of building coverage of every cell\n",
    "    where the membership > 1 and the cell is in Andorra\n",
    "    \"\"\"\n",
    "    colocations_by_int=[]\n",
    "    for s_ind_this_interval in stay_ind_by_interval:\n",
    "        cell_ids_this_interval=[cell_ids_by_stay_ind[s_ind] for s_ind in s_ind_this_interval]\n",
    "        n_stays_by_cell_id=Counter(cell_ids_this_interval)\n",
    "        memberships_all_cells=[]\n",
    "        bld_cover_all_cells=[]\n",
    "        for cell in n_stays_by_cell_id:\n",
    "            try:\n",
    "                bld_cover=building_cover_all_cells[cell]\n",
    "            except:\n",
    "                bld_cover=-1\n",
    "            members=n_stays_by_cell_id[cell]\n",
    "            if ((members>1) and (bld_cover>=0)):\n",
    "                memberships_all_cells.append(members)\n",
    "                bld_cover_all_cells.append(bld_cover)\n",
    "        colocations_by_int.append({'m': memberships_all_cells, 'b': bld_cover_all_cells})\n",
    "    return colocations_by_int "
   ]
  },
  {
   "cell_type": "code",
   "execution_count": null,
   "metadata": {},
   "outputs": [],
   "source": [
    "n_interactions_all_days=[]\n",
    "distances_all_days=[]\n",
    "colocations_all_days=[]"
   ]
  },
  {
   "cell_type": "code",
   "execution_count": null,
   "metadata": {},
   "outputs": [],
   "source": [
    "for i_d, date in enumerate(dates):\n",
    "    month=date['month']\n",
    "    day=date['day']\n",
    "    print('{}_{}'.format(month, day))\n",
    "    try:\n",
    "        persons=json.load(open('../data/private/stays/{}_{}/stays_{}_{}_{}.json'.format(year, month, year, month, day)))\n",
    "    except:\n",
    "        print(\"Couldn't get data for {}_{}_{}\".format(year, month, day))\n",
    "        persons=[]\n",
    "    if len(persons)>0:\n",
    "        stay_ind_by_interval, cell_ids_by_stay_ind=get_h3_cells_by_interval(resolution=resolution, intervals=intervals, \n",
    "                                                                            T=T, persons=persons)\n",
    "        colocations=find_collocations(stay_ind_by_interval, cell_ids_by_stay_ind)\n",
    "        colocations_all_days.append(colocations)\n",
    "    else:\n",
    "        colocations_all_days.append([])"
   ]
  },
  {
   "cell_type": "markdown",
   "metadata": {},
   "source": [
    "## Compute the indoor and outdoor crowding indices for each interval: count the unique subscriber pairs in each cell cell, attributable to both indoor and outdoor"
   ]
  },
  {
   "cell_type": "code",
   "execution_count": null,
   "metadata": {},
   "outputs": [],
   "source": [
    "def compute_crowding(colocations_all_days, indoor_exponent=1, outdoor_exponent=1):\n",
    "    dt=1/len(colocations_all_days[0])  # the fraction of 1 day represented by each interval\n",
    "    indoor_by_day, outdoor_by_day=[], []\n",
    "    for i_d, co_d in enumerate(colocations_all_days):\n",
    "        if len(co_d)>0:\n",
    "            indoor_today, outdoor_today=0,0\n",
    "            for interval in co_d:\n",
    "                memberships_interval=np.array(interval['m'])\n",
    "                pot_interactions_interval=np.multiply(memberships_interval, memberships_interval-1)/2\n",
    "                buildings_interval=np.array(interval['b'])\n",
    "                indoor_today+=np.sum(np.power(pot_interactions_interval, indoor_exponent)*buildings_interval)\n",
    "                outdoor_today+=np.sum(np.power(pot_interactions_interval, outdoor_exponent)*(1-buildings_interval)) \n",
    "            indoor_by_day.append(dt* indoor_today)\n",
    "            outdoor_by_day.append(dt * outdoor_today)\n",
    "        else:\n",
    "            indoor_by_day.append(float('NaN'))\n",
    "            outdoor_by_day.append(float('NaN'))\n",
    "    return indoor_by_day, outdoor_by_day"
   ]
  },
  {
   "cell_type": "code",
   "execution_count": null,
   "metadata": {},
   "outputs": [],
   "source": [
    "indoor_by_day, outdoor_by_day=compute_crowding(colocations_all_days, indoor_exponent=1, outdoor_exponent=1)\n",
    "\n",
    "first_day_mobility_data=pd.to_datetime('2020/03/2', format='%Y/%m/%d')\n",
    "last_day_mobility_data=first_day_mobility_data+timedelta(days=len(colocations)-1)\n",
    "\n",
    "crowding_df=pd.DataFrame(index= pd.date_range(first_day_mobility_data, last_day_mobility_data),\n",
    "                                                columns=['indoor_interactions', 'outdoor_interactions'])\n",
    "crowding_df.index.name='Date'\n",
    "\n",
    "crowding_df['indoor_interactions']=indoor_by_day\n",
    "crowding_df['outdoor_interactions']=outdoor_by_day\n",
    "crowding_df['all_interactions']=crowding_df['indoor_interactions']+crowding_df['outdoor_interactions']"
   ]
  },
  {
   "cell_type": "code",
   "execution_count": null,
   "metadata": {},
   "outputs": [],
   "source": [
    "crowding_df.to_csv('../outputs/metrics/2020/crowding_df.csv')"
   ]
  }
 ],
 "metadata": {
  "kernelspec": {
   "display_name": "Python 3",
   "language": "python",
   "name": "python3"
  },
  "language_info": {
   "codemirror_mode": {
    "name": "ipython",
    "version": 3
   },
   "file_extension": ".py",
   "mimetype": "text/x-python",
   "name": "python",
   "nbconvert_exporter": "python",
   "pygments_lexer": "ipython3",
   "version": "3.7.1"
  }
 },
 "nbformat": 4,
 "nbformat_minor": 4
}
