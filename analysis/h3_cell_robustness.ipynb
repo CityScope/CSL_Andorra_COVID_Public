{
 "cells": [
  {
   "cell_type": "code",
   "execution_count": 1,
   "metadata": {
    "collapsed": true
   },
   "outputs": [],
   "source": [
    "import json\n",
    "import matplotlib.pyplot as plt\n",
    "import os\n",
    "import pandas as pd\n",
    "import datetime\n",
    "from collections import Counter\n",
    "import numpy as np\n",
    "\n",
    "from toolbox import *\n",
    "from h3_tools import *"
   ]
  },
  {
   "cell_type": "code",
   "execution_count": 3,
   "metadata": {
    "collapsed": true
   },
   "outputs": [],
   "source": [
    "intervals, T=create_intervals(interval_length_minutes=20)"
   ]
  },
  {
   "cell_type": "code",
   "execution_count": 2,
   "metadata": {
    "collapsed": true
   },
   "outputs": [],
   "source": [
    "year=2020\n",
    "dates=[\n",
    "    {'month': 3, 'day': d} for d in range(2, 32)] +[\n",
    "    {'month': 4, 'day': d} for d in range(1, 31)]+ [\n",
    "    {'month': 5, 'day': d} for d in range(1, 32)]+[\n",
    "    {'month': 6, 'day': d} for d in range(1, 31)]+[\n",
    "    {'month': 7, 'day': d} for d in range(1, 32)]+[\n",
    "    {'month': 8, 'day': d} for d in range(1, 32)]+[\n",
    "    {'month': 9, 'day': d} for d in range(1, 31)]+[\n",
    "    {'month': 10, 'day': d} for d in range(1, 30)]"
   ]
  },
  {
   "cell_type": "code",
   "execution_count": 24,
   "metadata": {
    "collapsed": true
   },
   "outputs": [],
   "source": [
    "def find_collocations(stay_ind_by_interval, cell_ids_by_stay_ind):\n",
    "    \"\"\"\n",
    "    for every interval, return the memberships of every h3 cell \n",
    "    where the membership > 1 \n",
    "    \"\"\"\n",
    "    colocations_by_int=[]\n",
    "    for s_ind_this_interval in stay_ind_by_interval:\n",
    "        cell_ids_this_interval=[cell_ids_by_stay_ind[s_ind] for s_ind in s_ind_this_interval]\n",
    "        n_stays_by_cell_id=Counter(cell_ids_this_interval)\n",
    "        memberships_all_cells=[]\n",
    "#         bld_cover_all_cells=[]\n",
    "        for cell in n_stays_by_cell_id:\n",
    "#             try:\n",
    "#                 bld_cover=building_cover_all_cells[cell]\n",
    "#             except:\n",
    "#                 bld_cover=-1\n",
    "            members=n_stays_by_cell_id[cell]\n",
    "            if ((members>1) \n",
    "#                 and (bld_cover>=0)\n",
    "               ):\n",
    "                memberships_all_cells.append(members)\n",
    "#                 bld_cover_all_cells.append(bld_cover)\n",
    "        colocations_by_int.append({'m': memberships_all_cells\n",
    "#                                    , 'b': bld_cover_all_cells\n",
    "                                  })\n",
    "    return colocations_by_int"
   ]
  },
  {
   "cell_type": "code",
   "execution_count": 25,
   "metadata": {
    "collapsed": true
   },
   "outputs": [],
   "source": [
    "def compute_crowding(colocations_all_days):\n",
    "    dt=1/len(colocations_all_days[0])  # the fraction of 1 day represented by each interval\n",
    "    crowding_by_day=[]\n",
    "    for i_d, co_d in enumerate(colocations_all_days):\n",
    "        if len(co_d)>0:\n",
    "            crowding_today=0\n",
    "            for interval in co_d:\n",
    "                memberships_interval=np.array(interval['m'])\n",
    "                pot_interactions_interval=np.multiply(memberships_interval, memberships_interval-1)/2\n",
    "                crowding_today+=np.sum(pot_interactions_interval) \n",
    "            crowding_by_day.append(dt* crowding_today)\n",
    "        else:\n",
    "            crowding_by_day.append(float('NaN'))\n",
    "    return crowding_by_day"
   ]
  },
  {
   "cell_type": "code",
   "execution_count": null,
   "metadata": {},
   "outputs": [],
   "source": [
    "crowding_by_res={}\n",
    "for resolution in [10,11,12]:\n",
    "    colocations_all_days=[]\n",
    "    for i_d, date in enumerate(dates):\n",
    "        month=date['month']\n",
    "        day=date['day']\n",
    "        print('{}_{}'.format(month, day))\n",
    "        try:\n",
    "            persons=json.load(open('../data/private/stays/{}_{}/stays_{}_{}_{}.json'.format(year, month, year, month, day)))\n",
    "        except:\n",
    "            print(\"Couldn't get data for {}_{}_{}\".format(year, month, day))\n",
    "            persons=[]\n",
    "        if len(persons)>0:\n",
    "            stay_ind_by_interval, cell_ids_by_stay_ind=get_h3_cells_by_interval(resolution=resolution, intervals=intervals, \n",
    "                                                                                T=T, persons=persons)\n",
    "            colocations=find_collocations(stay_ind_by_interval, cell_ids_by_stay_ind)\n",
    "            colocations_all_days.append(colocations)\n",
    "        else:\n",
    "            colocations_all_days.append([])\n",
    "    crowding_by_day=compute_crowding(colocations_all_days)\n",
    "    crowding_by_res[resolution]=crowding_by_day"
   ]
  },
  {
   "cell_type": "code",
   "execution_count": 42,
   "metadata": {
    "collapsed": true
   },
   "outputs": [],
   "source": [
    "crowding_by_res_df=pd.DataFrame.from_dict(crowding_by_res)"
   ]
  },
  {
   "cell_type": "code",
   "execution_count": 43,
   "metadata": {},
   "outputs": [
    {
     "data": {
      "text/html": [
       "<div>\n",
       "<style scoped>\n",
       "    .dataframe tbody tr th:only-of-type {\n",
       "        vertical-align: middle;\n",
       "    }\n",
       "\n",
       "    .dataframe tbody tr th {\n",
       "        vertical-align: top;\n",
       "    }\n",
       "\n",
       "    .dataframe thead th {\n",
       "        text-align: right;\n",
       "    }\n",
       "</style>\n",
       "<table border=\"1\" class=\"dataframe\">\n",
       "  <thead>\n",
       "    <tr style=\"text-align: right;\">\n",
       "      <th></th>\n",
       "      <th>10</th>\n",
       "      <th>11</th>\n",
       "      <th>12</th>\n",
       "    </tr>\n",
       "  </thead>\n",
       "  <tbody>\n",
       "    <tr>\n",
       "      <th>0</th>\n",
       "      <td>4.654932e+06</td>\n",
       "      <td>1.181462e+06</td>\n",
       "      <td>374903.083333</td>\n",
       "    </tr>\n",
       "    <tr>\n",
       "      <th>1</th>\n",
       "      <td>4.386285e+06</td>\n",
       "      <td>1.129056e+06</td>\n",
       "      <td>360169.555556</td>\n",
       "    </tr>\n",
       "    <tr>\n",
       "      <th>2</th>\n",
       "      <td>4.250692e+06</td>\n",
       "      <td>1.082654e+06</td>\n",
       "      <td>336153.208333</td>\n",
       "    </tr>\n",
       "    <tr>\n",
       "      <th>3</th>\n",
       "      <td>4.539950e+06</td>\n",
       "      <td>1.158518e+06</td>\n",
       "      <td>359117.444444</td>\n",
       "    </tr>\n",
       "    <tr>\n",
       "      <th>4</th>\n",
       "      <td>4.740063e+06</td>\n",
       "      <td>1.225771e+06</td>\n",
       "      <td>386934.166667</td>\n",
       "    </tr>\n",
       "  </tbody>\n",
       "</table>\n",
       "</div>"
      ],
      "text/plain": [
       "             10            11             12\n",
       "0  4.654932e+06  1.181462e+06  374903.083333\n",
       "1  4.386285e+06  1.129056e+06  360169.555556\n",
       "2  4.250692e+06  1.082654e+06  336153.208333\n",
       "3  4.539950e+06  1.158518e+06  359117.444444\n",
       "4  4.740063e+06  1.225771e+06  386934.166667"
      ]
     },
     "execution_count": 43,
     "metadata": {},
     "output_type": "execute_result"
    }
   ],
   "source": [
    "crowding_by_res_df.head()"
   ]
  },
  {
   "cell_type": "code",
   "execution_count": 44,
   "metadata": {},
   "outputs": [
    {
     "data": {
      "text/html": [
       "<div>\n",
       "<style scoped>\n",
       "    .dataframe tbody tr th:only-of-type {\n",
       "        vertical-align: middle;\n",
       "    }\n",
       "\n",
       "    .dataframe tbody tr th {\n",
       "        vertical-align: top;\n",
       "    }\n",
       "\n",
       "    .dataframe thead th {\n",
       "        text-align: right;\n",
       "    }\n",
       "</style>\n",
       "<table border=\"1\" class=\"dataframe\">\n",
       "  <thead>\n",
       "    <tr style=\"text-align: right;\">\n",
       "      <th></th>\n",
       "      <th>10</th>\n",
       "      <th>11</th>\n",
       "      <th>12</th>\n",
       "    </tr>\n",
       "  </thead>\n",
       "  <tbody>\n",
       "    <tr>\n",
       "      <th>10</th>\n",
       "      <td>1.000000</td>\n",
       "      <td>0.970832</td>\n",
       "      <td>0.912552</td>\n",
       "    </tr>\n",
       "    <tr>\n",
       "      <th>11</th>\n",
       "      <td>0.970832</td>\n",
       "      <td>1.000000</td>\n",
       "      <td>0.981134</td>\n",
       "    </tr>\n",
       "    <tr>\n",
       "      <th>12</th>\n",
       "      <td>0.912552</td>\n",
       "      <td>0.981134</td>\n",
       "      <td>1.000000</td>\n",
       "    </tr>\n",
       "  </tbody>\n",
       "</table>\n",
       "</div>"
      ],
      "text/plain": [
       "          10        11        12\n",
       "10  1.000000  0.970832  0.912552\n",
       "11  0.970832  1.000000  0.981134\n",
       "12  0.912552  0.981134  1.000000"
      ]
     },
     "execution_count": 44,
     "metadata": {},
     "output_type": "execute_result"
    }
   ],
   "source": [
    "crowding_by_res_df.corr()"
   ]
  },
  {
   "cell_type": "code",
   "execution_count": 45,
   "metadata": {},
   "outputs": [
    {
     "data": {
      "text/plain": [
       "<AxesSubplot:>"
      ]
     },
     "execution_count": 45,
     "metadata": {},
     "output_type": "execute_result"
    },
    {
     "data": {
      "image/png": "[encoded data removed]",
      "text/plain": [
       "<Figure size 432x288 with 1 Axes>"
      ]
     },
     "metadata": {
      "needs_background": "light"
     },
     "output_type": "display_data"
    }
   ],
   "source": [
    "crowding_by_res_df.plot()"
   ]
  }
 ],
 "metadata": {
  "kernelspec": {
   "display_name": "Python 3",
   "language": "python",
   "name": "python3"
  },
  "language_info": {
   "codemirror_mode": {
    "name": "ipython",
    "version": 3
   },
   "file_extension": ".py",
   "mimetype": "text/x-python",
   "name": "python",
   "nbconvert_exporter": "python",
   "pygments_lexer": "ipython3",
   "version": "3.8.5"
  }
 },
 "nbformat": 4,
 "nbformat_minor": 1
}
