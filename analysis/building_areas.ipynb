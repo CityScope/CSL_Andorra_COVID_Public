{
 "cells": [
  {
   "cell_type": "markdown",
   "metadata": {},
   "source": [
    "# Calculate the level of building coverage of each H3 cell in Andorra"
   ]
  },
  {
   "cell_type": "code",
   "execution_count": 5,
   "metadata": {
    "collapsed": true
   },
   "outputs": [],
   "source": [
    "import rasterio\n",
    "import json\n",
    "from h3_tools import *\n",
    "from collections import Counter"
   ]
  },
  {
   "cell_type": "code",
   "execution_count": 40,
   "metadata": {
    "collapsed": true
   },
   "outputs": [],
   "source": [
    "bld_raster=rasterio.open('../data/public/GHSL/5136_OTSU_projected_to_wgs84.tif')"
   ]
  },
  {
   "cell_type": "code",
   "execution_count": 41,
   "metadata": {},
   "outputs": [
    {
     "name": "stdout",
     "output_type": "stream",
     "text": [
      "Num channels: 1\n",
      "Width: 12288\n",
      "Height: 12287\n",
      "CRS: EPSG:4326\n"
     ]
    }
   ],
   "source": [
    "print('Num channels: {}'.format(bld_raster.count))\n",
    "print('Width: {}'.format(bld_raster.width))\n",
    "print('Height: {}'.format(bld_raster.height))\n",
    "print('CRS: {}'.format(bld_raster.crs))"
   ]
  },
  {
   "cell_type": "code",
   "execution_count": 42,
   "metadata": {},
   "outputs": [
    {
     "name": "stdout",
     "output_type": "stream",
     "text": [
      "Top Left: (1.450195312499984, 43.06888777416962)\n",
      "Bottom right: (3.559570312499985, 41.50857729743934)\n"
     ]
    }
   ],
   "source": [
    "print('Top Left: {}'.format(bld_raster.transform * (0, 0)))\n",
    "print('Bottom right: {}'.format(bld_raster.transform * (bld_raster.width, bld_raster.height)))"
   ]
  },
  {
   "cell_type": "code",
   "execution_count": 43,
   "metadata": {
    "collapsed": true
   },
   "outputs": [],
   "source": [
    "channel=bld_raster.read(1)"
   ]
  },
  {
   "cell_type": "code",
   "execution_count": 44,
   "metadata": {},
   "outputs": [
    {
     "name": "stdout",
     "output_type": "stream",
     "text": [
      "[[0 0 0 ... 0 0 0]\n",
      " [0 0 0 ... 0 0 0]\n",
      " [0 0 0 ... 0 0 0]\n",
      " ...\n",
      " [0 0 0 ... 0 0 0]\n",
      " [0 0 0 ... 0 0 0]\n",
      " [0 0 0 ... 0 0 0]]\n"
     ]
    }
   ],
   "source": [
    "print(channel)"
   ]
  },
  {
   "cell_type": "code",
   "execution_count": 45,
   "metadata": {
    "collapsed": true
   },
   "outputs": [],
   "source": [
    "class_counts=Counter(list(channel.flatten()))"
   ]
  },
  {
   "cell_type": "code",
   "execution_count": 46,
   "metadata": {},
   "outputs": [
    {
     "name": "stdout",
     "output_type": "stream",
     "text": [
      "0.026546227932299722\n"
     ]
    }
   ],
   "source": [
    "print(class_counts[1]/(class_counts[0]+class_counts[1]))"
   ]
  },
  {
   "cell_type": "markdown",
   "metadata": {},
   "source": [
    "# H3 cells of Andorra"
   ]
  },
  {
   "cell_type": "code",
   "execution_count": 47,
   "metadata": {
    "collapsed": true
   },
   "outputs": [],
   "source": [
    "parishes=json.load(open('../data/public/shapefiles/andorra_parish.geojson'))"
   ]
  },
  {
   "cell_type": "code",
   "execution_count": 65,
   "metadata": {
    "collapsed": true
   },
   "outputs": [],
   "source": [
    "def get_flipped_geo_for_h3(coords):\n",
    "    return {'type': 'Polygon', 'coordinates': [[[coord[1], coord[0]] for coord in coords]]}"
   ]
  },
  {
   "cell_type": "code",
   "execution_count": 75,
   "metadata": {
    "collapsed": true
   },
   "outputs": [],
   "source": [
    "resolution=11\n",
    "parish_hex={}\n",
    "for p_feat in parishes['features']:\n",
    "    name=p_feat['properties']['NAME_1']\n",
    "    cells=set()\n",
    "    for poly in p_feat['geometry']['coordinates']:\n",
    "        geo_flipped=get_flipped_geo_for_h3(poly)\n",
    "        cells.update(h3.polyfill(geo_flipped, res=resolution))\n",
    "    parish_hex[name]=list(cells)"
   ]
  },
  {
   "cell_type": "markdown",
   "metadata": {},
   "source": [
    "For each h3 cell in each parish:\n",
    "- find the h3 cells at the next resolution\n",
    "- find the rows and columns of each\n",
    "- add the 1s and divide by the number of children to get the proportion built up"
   ]
  },
  {
   "cell_type": "code",
   "execution_count": 79,
   "metadata": {},
   "outputs": [
    {
     "data": {
      "text/plain": [
       "{'Andorra la Vella': 5768,\n",
       " 'Canillo': 54567,\n",
       " 'Encamp': 33634,\n",
       " 'Escaldes-Engordany': 22780,\n",
       " 'La Massana': 33170,\n",
       " 'Ordino': 38888,\n",
       " 'Sant Julià de Lòria': 31918}"
      ]
     },
     "execution_count": 79,
     "metadata": {},
     "output_type": "execute_result"
    }
   ],
   "source": [
    "{parish: len(parish_hex[parish]) for parish in parish_hex}"
   ]
  },
  {
   "cell_type": "code",
   "execution_count": 80,
   "metadata": {},
   "outputs": [
    {
     "name": "stdout",
     "output_type": "stream",
     "text": [
      "Andorra la Vella\n",
      "Canillo\n",
      "Encamp\n",
      "Escaldes-Engordany\n",
      "La Massana\n",
      "Ordino\n",
      "Sant Julià de Lòria\n"
     ]
    }
   ],
   "source": [
    "hex_to_p_built={}\n",
    "for parish in parish_hex:\n",
    "    print(parish)\n",
    "    for p_hex in parish_hex[parish]:\n",
    "        children_hex=h3.h3_to_children(p_hex)\n",
    "        n_built=0\n",
    "        for c_hex in children_hex:\n",
    "            centroid=h3.h3_to_geo(c_hex) # returns lat, lon\n",
    "            raster_row, raster_col=bld_raster.index(centroid[1], centroid[0]) # requires lon, lat\n",
    "            # if out of bounds, will return 0\n",
    "            n_built+=channel[raster_row, raster_col]\n",
    "        prop_built=n_built/len(children_hex)\n",
    "        hex_to_p_built[p_hex]=prop_built"
   ]
  },
  {
   "cell_type": "code",
   "execution_count": 81,
   "metadata": {},
   "outputs": [
    {
     "data": {
      "text/plain": [
       "('8b3962232ca3fff', 1.0)"
      ]
     },
     "execution_count": 81,
     "metadata": {},
     "output_type": "execute_result"
    }
   ],
   "source": [
    "list(hex_to_p_built.items())[0]"
   ]
  },
  {
   "cell_type": "code",
   "execution_count": 82,
   "metadata": {},
   "outputs": [
    {
     "data": {
      "text/plain": [
       "0.013089332233063277"
      ]
     },
     "execution_count": 82,
     "metadata": {},
     "output_type": "execute_result"
    }
   ],
   "source": [
    "sum([hex_to_p_built[h] for h in hex_to_p_built])/len(hex_to_p_built)"
   ]
  },
  {
   "cell_type": "code",
   "execution_count": 83,
   "metadata": {
    "collapsed": true
   },
   "outputs": [],
   "source": [
    "json.dump(hex_to_p_built, open('../outputs/h3_res11_builtup.json', 'w'))"
   ]
  }
 ],
 "metadata": {
  "anaconda-cloud": {},
  "kernelspec": {
   "display_name": "Python 3",
   "language": "python",
   "name": "python3"
  },
  "language_info": {
   "codemirror_mode": {
    "name": "ipython",
    "version": 3
   },
   "file_extension": ".py",
   "mimetype": "text/x-python",
   "name": "python",
   "nbconvert_exporter": "python",
   "pygments_lexer": "ipython3",
   "version": "3.8.5"
  }
 },
 "nbformat": 4,
 "nbformat_minor": 2
}
